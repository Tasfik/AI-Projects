{
 "cells": [
  {
   "cell_type": "markdown",
   "metadata": {},
   "source": [
    "## Project :: Feature scaling of a randomized (1000 X 20) array using Mean Normalization \n",
    "   \n",
    "   ### The equation for mean normalization \n",
    "\n",
    "$\\mbox{Norm_Col}_i = \\frac{\\mbox{Col}_i - \\mu_i}{\\sigma_i}$\n",
    "\n",
    "Here,\n",
    "\n",
    "i            = i'th column of the array\n",
    "\n",
    "${\\mu_i}$    = Average of the values in each column of array\n",
    "\n",
    "${\\sigma_i}$ = Standard Deviation of the values in each column of array\n",
    "\n",
    "x             = (1000 X 20) array\n",
    "\n",
    "x_norm        = mean normalization\n",
    "\n",
    "avg_cols      = ${\\mu_i}$\n",
    "\n",
    "std_cols      = ${\\sigma_i}$\n"
   ]
  },
  {
   "cell_type": "code",
   "execution_count": 1,
   "metadata": {},
   "outputs": [],
   "source": [
    "import numpy as np"
   ]
  },
  {
   "cell_type": "code",
   "execution_count": 2,
   "metadata": {},
   "outputs": [],
   "source": [
    "x=np.random.randint(0,5001,size=(1000,20))"
   ]
  },
  {
   "cell_type": "code",
   "execution_count": 3,
   "metadata": {},
   "outputs": [
    {
     "name": "stdout",
     "output_type": "stream",
     "text": [
      "(1000, 20)\n"
     ]
    }
   ],
   "source": [
    "print(np.shape(x))"
   ]
  },
  {
   "cell_type": "code",
   "execution_count": 4,
   "metadata": {},
   "outputs": [],
   "source": [
    "avg_cols=np.average(x,axis=0)"
   ]
  },
  {
   "cell_type": "code",
   "execution_count": 5,
   "metadata": {},
   "outputs": [
    {
     "data": {
      "text/plain": [
       "array([2484.945, 2584.448, 2522.358, 2552.834, 2538.862, 2600.416,\n",
       "       2468.53 , 2501.345, 2514.386, 2485.334, 2508.927, 2523.448,\n",
       "       2517.889, 2457.328, 2436.208, 2468.781, 2428.239, 2453.013,\n",
       "       2396.276, 2476.136])"
      ]
     },
     "execution_count": 5,
     "metadata": {},
     "output_type": "execute_result"
    }
   ],
   "source": [
    "avg_cols"
   ]
  },
  {
   "cell_type": "code",
   "execution_count": 6,
   "metadata": {},
   "outputs": [],
   "source": [
    "std_cols=np.std(x,axis=0)"
   ]
  },
  {
   "cell_type": "code",
   "execution_count": 7,
   "metadata": {},
   "outputs": [
    {
     "data": {
      "text/plain": [
       "array([1449.21189685, 1413.26974329, 1456.32437796, 1439.0289123 ,\n",
       "       1448.19535248, 1439.94563055, 1451.10079633, 1460.37155408,\n",
       "       1411.61423236, 1421.34866604, 1412.61992683, 1422.84412333,\n",
       "       1430.80538323, 1441.66728076, 1442.40264515, 1432.31601019,\n",
       "       1448.86027134, 1461.97413412, 1435.32809135, 1418.59284628])"
      ]
     },
     "execution_count": 7,
     "metadata": {},
     "output_type": "execute_result"
    }
   ],
   "source": [
    "std_cols"
   ]
  },
  {
   "cell_type": "code",
   "execution_count": 8,
   "metadata": {},
   "outputs": [
    {
     "data": {
      "text/plain": [
       "(20,)"
      ]
     },
     "execution_count": 8,
     "metadata": {},
     "output_type": "execute_result"
    }
   ],
   "source": [
    "np.shape(avg_cols)"
   ]
  },
  {
   "cell_type": "code",
   "execution_count": 9,
   "metadata": {},
   "outputs": [
    {
     "data": {
      "text/plain": [
       "(20,)"
      ]
     },
     "execution_count": 9,
     "metadata": {},
     "output_type": "execute_result"
    }
   ],
   "source": [
    "np.shape(std_cols)"
   ]
  },
  {
   "cell_type": "code",
   "execution_count": 10,
   "metadata": {},
   "outputs": [],
   "source": [
    "x_norm=(x-avg_cols)/std_cols"
   ]
  },
  {
   "cell_type": "code",
   "execution_count": 12,
   "metadata": {},
   "outputs": [
    {
     "name": "stdout",
     "output_type": "stream",
     "text": [
      "2.1316282072803004e-18\n"
     ]
    }
   ],
   "source": [
    "avg_x_norm=np.average(x_norm)\n",
    "print(avg_x_norm)"
   ]
  },
  {
   "cell_type": "code",
   "execution_count": 13,
   "metadata": {},
   "outputs": [],
   "source": [
    "avg_min_x_norm_col=[]\n",
    "for i in range(20):\n",
    "    avg_min_x_norm_col.append(min(x_norm[:,i]))\n"
   ]
  },
  {
   "cell_type": "code",
   "execution_count": 14,
   "metadata": {},
   "outputs": [
    {
     "name": "stdout",
     "output_type": "stream",
     "text": [
      "[-1.712617047508871, -1.8237480935534591, -1.729942887814461, -1.7739977134402791, -1.7489781303714964, -1.803134746834709, -1.7011430262107206, -1.7128141074827556, -1.7797964503361414, -1.747167362477453, -1.772541185669695, -1.7735238587438273, -1.756974798575019, -1.6996487557843776, -1.6792869925359455, -1.721534202272496, -1.6759649277618103, -1.6744571212789217, -1.6674069255801762, -1.7370283562824778]\n"
     ]
    }
   ],
   "source": [
    "print(avg_min_x_norm_col)"
   ]
  },
  {
   "cell_type": "code",
   "execution_count": 15,
   "metadata": {},
   "outputs": [],
   "source": [
    "avg_max_x_norm_col=[]\n",
    "for i in range(20):\n",
    "    avg_max_x_norm_col.append(max(x_norm[:,i]))"
   ]
  },
  {
   "cell_type": "code",
   "execution_count": 16,
   "metadata": {},
   "outputs": [
    {
     "name": "stdout",
     "output_type": "stream",
     "text": [
      "[1.734773917784203, 1.7049484087818356, 1.7012981705856793, 1.6984828998941859, 1.6987611483357057, 1.6622738728568955, 1.7355582784980992, 1.7109721104974827, 1.7530384316550565, 1.7671005433197045, 1.7620259722581468, 1.7405645210124179, 1.7326682084491851, 1.7553786742421271, 1.7767521493509972, 1.7672210475877563, 1.7701920956262165, 1.7407879801750559, 1.8091501278666806, 1.768558192427805]\n"
     ]
    }
   ],
   "source": [
    "print(avg_max_x_norm_col)"
   ]
  },
  {
   "cell_type": "code",
   "execution_count": 17,
   "metadata": {},
   "outputs": [
    {
     "data": {
      "text/plain": [
       "(20,)"
      ]
     },
     "execution_count": 17,
     "metadata": {},
     "output_type": "execute_result"
    }
   ],
   "source": [
    "np.shape(avg_min_x_norm_col)"
   ]
  },
  {
   "cell_type": "code",
   "execution_count": 18,
   "metadata": {},
   "outputs": [
    {
     "data": {
      "text/plain": [
       "(20,)"
      ]
     },
     "execution_count": 18,
     "metadata": {},
     "output_type": "execute_result"
    }
   ],
   "source": [
    "np.shape(avg_max_x_norm_col)"
   ]
  },
  {
   "cell_type": "code",
   "execution_count": 19,
   "metadata": {},
   "outputs": [],
   "source": [
    "xx=np.arange(1,10).reshape(3,3)"
   ]
  },
  {
   "cell_type": "code",
   "execution_count": 20,
   "metadata": {},
   "outputs": [
    {
     "data": {
      "text/plain": [
       "array([[1, 2, 3],\n",
       "       [4, 5, 6],\n",
       "       [7, 8, 9]])"
      ]
     },
     "execution_count": 20,
     "metadata": {},
     "output_type": "execute_result"
    }
   ],
   "source": [
    "xx"
   ]
  },
  {
   "cell_type": "code",
   "execution_count": 21,
   "metadata": {},
   "outputs": [],
   "source": [
    "avg_cols2=np.average(xx,axis=0)"
   ]
  },
  {
   "cell_type": "code",
   "execution_count": 22,
   "metadata": {},
   "outputs": [
    {
     "data": {
      "text/plain": [
       "array([4., 5., 6.])"
      ]
     },
     "execution_count": 22,
     "metadata": {},
     "output_type": "execute_result"
    }
   ],
   "source": [
    "avg_cols2"
   ]
  },
  {
   "cell_type": "markdown",
   "metadata": {},
   "source": [
    "# Project :: Data separation"
   ]
  },
  {
   "cell_type": "code",
   "execution_count": 24,
   "metadata": {},
   "outputs": [
    {
     "data": {
      "text/plain": [
       "1000"
      ]
     },
     "execution_count": 24,
     "metadata": {},
     "output_type": "execute_result"
    }
   ],
   "source": [
    "np.shape(x)[0]"
   ]
  },
  {
   "cell_type": "code",
   "execution_count": 98,
   "metadata": {},
   "outputs": [],
   "source": [
    "row_indices=np.random.permutation(np.shape(x)[0])"
   ]
  },
  {
   "cell_type": "code",
   "execution_count": 99,
   "metadata": {},
   "outputs": [],
   "source": [
    "# Create a Training Set with 60% data\n",
    "x_train_start_rows=0\n",
    "x_train_end_rows=x_train_start_rows+int(np.shape(x)[0] * 60/100)\n",
    "X_train = x_norm[row_indices[x_train_start_rows:x_train_end_rows],:]\n",
    "# Create a Cross Validation Set with 20% data\n",
    "x_crossVal_start_rows=x_train_end_rows\n",
    "x_crossVal_end_rows=x_crossVal_start_rows+int(np.shape(x)[0] * 20/100)\n",
    "X_crossVal = x_norm[row_indices[x_crossVal_start_rows:x_crossVal_end_rows],:]\n",
    "\n",
    "# Create a Test Set with 20% data\n",
    "x_test_start_rows=x_crossVal_end_rows\n",
    "x_test_end_rows=x_test_start_rows+int(np.shape(x)[0] * 20/100)\n",
    "X_test = x_norm[row_indices[x_test_start_rows:x_test_end_rows],:]"
   ]
  },
  {
   "cell_type": "code",
   "execution_count": 100,
   "metadata": {},
   "outputs": [
    {
     "data": {
      "text/plain": [
       "(600, 20)"
      ]
     },
     "execution_count": 100,
     "metadata": {},
     "output_type": "execute_result"
    }
   ],
   "source": [
    "np.shape(X_train)"
   ]
  },
  {
   "cell_type": "code",
   "execution_count": 101,
   "metadata": {},
   "outputs": [
    {
     "data": {
      "text/plain": [
       "(200, 20)"
      ]
     },
     "execution_count": 101,
     "metadata": {},
     "output_type": "execute_result"
    }
   ],
   "source": [
    "np.shape(X_crossVal)"
   ]
  },
  {
   "cell_type": "code",
   "execution_count": 102,
   "metadata": {},
   "outputs": [
    {
     "data": {
      "text/plain": [
       "(200, 20)"
      ]
     },
     "execution_count": 102,
     "metadata": {},
     "output_type": "execute_result"
    }
   ],
   "source": [
    "np.shape(X_test)"
   ]
  },
  {
   "cell_type": "code",
   "execution_count": 69,
   "metadata": {},
   "outputs": [],
   "source": [
    "xx=np.array([[1,2,3],[4,5,6],[7,8,9]])"
   ]
  },
  {
   "cell_type": "code",
   "execution_count": 90,
   "metadata": {},
   "outputs": [],
   "source": [
    "i=[1,2,3,4]"
   ]
  },
  {
   "cell_type": "code",
   "execution_count": 91,
   "metadata": {},
   "outputs": [
    {
     "data": {
      "text/plain": [
       "array([[1, 2, 3],\n",
       "       [4, 5, 6],\n",
       "       [7, 8, 9]])"
      ]
     },
     "execution_count": 91,
     "metadata": {},
     "output_type": "execute_result"
    }
   ],
   "source": [
    "xx"
   ]
  },
  {
   "cell_type": "code",
   "execution_count": 96,
   "metadata": {},
   "outputs": [
    {
     "data": {
      "text/plain": [
       "array([[4, 5, 6],\n",
       "       [7, 8, 9]])"
      ]
     },
     "execution_count": 96,
     "metadata": {},
     "output_type": "execute_result"
    }
   ],
   "source": [
    "xx[i[:2]]"
   ]
  },
  {
   "cell_type": "code",
   "execution_count": null,
   "metadata": {},
   "outputs": [],
   "source": []
  }
 ],
 "metadata": {
  "kernelspec": {
   "display_name": "Python 3",
   "language": "python",
   "name": "python3"
  },
  "language_info": {
   "codemirror_mode": {
    "name": "ipython",
    "version": 3
   },
   "file_extension": ".py",
   "mimetype": "text/x-python",
   "name": "python",
   "nbconvert_exporter": "python",
   "pygments_lexer": "ipython3",
   "version": "3.7.3"
  }
 },
 "nbformat": 4,
 "nbformat_minor": 2
}
