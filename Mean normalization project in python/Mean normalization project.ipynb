{
 "cells": [
  {
   "cell_type": "markdown",
   "metadata": {},
   "source": [
    "## Project :: Feature scaling of a randomized (1000 X 20) array using Mean Normalization \n",
    "   \n",
    "   ### The equation for mean normalization \n",
    "\n",
    "$\\mbox{Norm_Col}_i = \\frac{\\mbox{Col}_i - \\mu_i}{\\sigma_i}$\n",
    "\n",
    "Here,\n",
    "\n",
    "i            = i'th column of the array\n",
    "\n",
    "${\\mu_i}$    = Average of the values in each column of array\n",
    "\n",
    "${\\sigma_i}$ = Standard Deviation of the values in each column of array\n",
    "\n",
    "x             = (1000 X 20) array\n",
    "\n",
    "x_norm        = mean normalization\n",
    "\n",
    "avg_cols      = ${\\mu_i}$\n",
    "\n",
    "std_cols      = ${\\sigma_i}$\n"
   ]
  },
  {
   "cell_type": "code",
   "execution_count": 2,
   "metadata": {},
   "outputs": [],
   "source": [
    "import numpy as np"
   ]
  },
  {
   "cell_type": "code",
   "execution_count": 16,
   "metadata": {},
   "outputs": [],
   "source": [
    "x=np.random.randint(0,5001,size=(1000,20))"
   ]
  },
  {
   "cell_type": "code",
   "execution_count": 17,
   "metadata": {},
   "outputs": [
    {
     "name": "stdout",
     "output_type": "stream",
     "text": [
      "(1000, 20)\n"
     ]
    }
   ],
   "source": [
    "print(np.shape(x))"
   ]
  },
  {
   "cell_type": "code",
   "execution_count": 21,
   "metadata": {},
   "outputs": [],
   "source": [
    "avg_cols=np.average(x,axis=0)"
   ]
  },
  {
   "cell_type": "code",
   "execution_count": 22,
   "metadata": {},
   "outputs": [
    {
     "data": {
      "text/plain": [
       "array([2464.377, 2583.272, 2399.065, 2563.864, 2385.283, 2460.475,\n",
       "       2550.897, 2531.093, 2472.622, 2551.925, 2498.881, 2511.554,\n",
       "       2555.98 , 2502.145, 2480.263, 2465.606, 2496.93 , 2503.611,\n",
       "       2476.691, 2498.802])"
      ]
     },
     "execution_count": 22,
     "metadata": {},
     "output_type": "execute_result"
    }
   ],
   "source": [
    "avg_cols"
   ]
  },
  {
   "cell_type": "code",
   "execution_count": 23,
   "metadata": {},
   "outputs": [],
   "source": [
    "std_cols=np.std(x,axis=0)"
   ]
  },
  {
   "cell_type": "code",
   "execution_count": 24,
   "metadata": {},
   "outputs": [
    {
     "data": {
      "text/plain": [
       "array([1443.83702989, 1477.88058178, 1415.58403875, 1420.47320408,\n",
       "       1431.44295552, 1470.59581442, 1438.76603184, 1489.04559311,\n",
       "       1433.56121429, 1419.74429436, 1435.61639752, 1404.64618359,\n",
       "       1462.12621261, 1460.65370912, 1486.66668686, 1465.72065919,\n",
       "       1430.13247327, 1462.49981254, 1447.40141202, 1445.36303772])"
      ]
     },
     "execution_count": 24,
     "metadata": {},
     "output_type": "execute_result"
    }
   ],
   "source": [
    "std_cols"
   ]
  },
  {
   "cell_type": "code",
   "execution_count": 25,
   "metadata": {},
   "outputs": [
    {
     "data": {
      "text/plain": [
       "(20,)"
      ]
     },
     "execution_count": 25,
     "metadata": {},
     "output_type": "execute_result"
    }
   ],
   "source": [
    "np.shape(avg_cols)"
   ]
  },
  {
   "cell_type": "code",
   "execution_count": 26,
   "metadata": {},
   "outputs": [
    {
     "data": {
      "text/plain": [
       "(20,)"
      ]
     },
     "execution_count": 26,
     "metadata": {},
     "output_type": "execute_result"
    }
   ],
   "source": [
    "np.shape(std_cols)"
   ]
  },
  {
   "cell_type": "code",
   "execution_count": 48,
   "metadata": {},
   "outputs": [],
   "source": [
    "x_norm=(x-avg_cols)/std_cols"
   ]
  },
  {
   "cell_type": "code",
   "execution_count": 49,
   "metadata": {},
   "outputs": [
    {
     "name": "stdout",
     "output_type": "stream",
     "text": [
      "2.0605739337042904e-17\n"
     ]
    }
   ],
   "source": [
    "avg_x_norm=np.average(x_norm)\n",
    "print(avg_x)"
   ]
  },
  {
   "cell_type": "code",
   "execution_count": 60,
   "metadata": {},
   "outputs": [],
   "source": [
    "avg_min_x_norm_col=[]\n",
    "for i in range(20):\n",
    "    avg_min_x_norm_col.append(min(x_norm[:,i]))\n"
   ]
  },
  {
   "cell_type": "code",
   "execution_count": 61,
   "metadata": {},
   "outputs": [
    {
     "name": "stdout",
     "output_type": "stream",
     "text": [
      "[-1.701284112510518, -1.7438973295716729, -1.6898078351501853, -1.7880407688847135, -1.664252837188854, -1.6731143770994135, -1.7674152320229053, -1.6897353658259755, -1.7241133307477852, -1.796749604931741, -1.7406328071414368, -1.7745066544965609, -1.7474414848496116, -1.712346317527648, -1.6683383181417826, -1.6814977564477458, -1.7452439173651428, -1.7111872278833986, -1.7090566441736526, -1.7288403915105273]\n"
     ]
    }
   ],
   "source": [
    "print(avg_min_x_norm_col)"
   ]
  },
  {
   "cell_type": "code",
   "execution_count": 69,
   "metadata": {},
   "outputs": [],
   "source": [
    "avg_max_x_norm_col=[]\n",
    "for i in range(20):\n",
    "    avg_max_x_norm_col.append(max(x_norm[:,i]))"
   ]
  },
  {
   "cell_type": "code",
   "execution_count": 70,
   "metadata": {},
   "outputs": [
    {
     "name": "stdout",
     "output_type": "stream",
     "text": [
      "[1.756169808305589, 1.6339128003726215, 1.8317068637495828, 1.7129052438402514, 1.824534460089067, 1.7241481140816268, 1.7001395264129553, 1.6567034692690852, 1.760913991559564, 1.7228982780298943, 1.7407985895889002, 1.7701582284862658, 1.6715520034607503, 1.7094092764116018, 1.693545044256733, 1.7284289363890941, 1.7467402822404245, 1.7007790214210916, 1.7419556033735937, 1.7291143711195711]\n"
     ]
    }
   ],
   "source": [
    "print(avg_max_x_norm_col)"
   ]
  },
  {
   "cell_type": "code",
   "execution_count": 65,
   "metadata": {},
   "outputs": [
    {
     "data": {
      "text/plain": [
       "(20,)"
      ]
     },
     "execution_count": 65,
     "metadata": {},
     "output_type": "execute_result"
    }
   ],
   "source": [
    "np.shape(avg_min_x_norm_col)"
   ]
  },
  {
   "cell_type": "code",
   "execution_count": 66,
   "metadata": {},
   "outputs": [
    {
     "data": {
      "text/plain": [
       "(20,)"
      ]
     },
     "execution_count": 66,
     "metadata": {},
     "output_type": "execute_result"
    }
   ],
   "source": [
    "np.shape(avg_max_x_norm_col)"
   ]
  },
  {
   "cell_type": "code",
   "execution_count": null,
   "metadata": {},
   "outputs": [],
   "source": []
  }
 ],
 "metadata": {
  "kernelspec": {
   "display_name": "Python 3",
   "language": "python",
   "name": "python3"
  },
  "language_info": {
   "codemirror_mode": {
    "name": "ipython",
    "version": 3
   },
   "file_extension": ".py",
   "mimetype": "text/x-python",
   "name": "python",
   "nbconvert_exporter": "python",
   "pygments_lexer": "ipython3",
   "version": "3.7.3"
  }
 },
 "nbformat": 4,
 "nbformat_minor": 2
}
